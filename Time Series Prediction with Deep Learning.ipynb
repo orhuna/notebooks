{
 "cells": [
  {
   "cell_type": "markdown",
   "metadata": {},
   "source": [
    "# Predicting Time Series Using Keras with TensorFlow Backend within ArcGIS\n",
    "\n",
    "We will be using a deep convolutional net to predict a time series given its historic measurements. In this example we will be using solar energy production models from NREL for the entire United States.\n",
    "\n",
    "<img src=\"fig/solarFarm.jpg\">\n",
    "\n",
    "Approach presented today:\n",
    "\n",
    "1. Using Historic Data in stored in ArcGIS Online forecast solar energy potential\n",
    "2. Establish a relationship between climatic variables and solar energy potential\n",
    "3. Create a data-driven map of solar potential for U.S."
   ]
  },
  {
   "cell_type": "code",
   "execution_count": null,
   "metadata": {},
   "outputs": [],
   "source": [
    "import arcpy as ARCPY\n",
    "import matplotlib.pyplot as PLT\n",
    "import pandas as PD\n",
    "import numpy as NUM\n",
    "from sklearn.metrics import mean_squared_error\n",
    "from sklearn.preprocessing import MinMaxScaler\n",
    "from sklearn.preprocessing import LabelEncoder\n",
    "from sklearn.metrics import mean_squared_error\n",
    "from keras.models import Sequential\n",
    "from keras.layers import Dense\n",
    "from keras.layers import LSTM"
   ]
  },
  {
   "cell_type": "markdown",
   "metadata": {},
   "source": [
    "We will define a utility function to divide a time-series into two portions with overlap for regression. The utility function returns two segments of the time series for a given lag."
   ]
  },
  {
   "cell_type": "code",
   "execution_count": 2,
   "metadata": {},
   "outputs": [],
   "source": [
    "def laggedDataset(dataset, look_back=1):\n",
    "\tdataX, dataY = [], []\n",
    "\tfor i in range(len(dataset)-look_back-1):\n",
    "\t\ta = dataset[i:(i+look_back), 0]\n",
    "\t\tdataX.append(a)\n",
    "\t\tdataY.append(dataset[i + look_back, 0])\n",
    "\treturn NUM.array(dataX), NUM.array(dataY)"
   ]
  },
  {
   "cell_type": "markdown",
   "metadata": {},
   "source": [
    "### Bringing in Data from ArcGIS Online Using ArcPy Library\n",
    "We will read solar energy data that resides in a feature class into a Python array. ArcPY library allows direct interaction with with ArcGIS server and ArcGIS online."
   ]
  },
  {
   "cell_type": "code",
   "execution_count": 3,
   "metadata": {},
   "outputs": [],
   "source": [
    "solarData = ARCPY.da.FeatureClassToNumPyArray(r'http://dredd29.esri.com/server/rest/services/Hosted/US_Solar_Weekly/FeatureServer/0', ('*'))"
   ]
  },
  {
   "cell_type": "markdown",
   "metadata": {},
   "source": [
    "Now the solar data is stored as a NumPy Array. We will transform this data into a **PANDAS** dataframe as it facilitates working with temporal data."
   ]
  },
  {
   "cell_type": "code",
   "execution_count": 4,
   "metadata": {},
   "outputs": [
    {
     "data": {
      "text/html": [
       "<div>\n",
       "<style scoped>\n",
       "    .dataframe tbody tr th:only-of-type {\n",
       "        vertical-align: middle;\n",
       "    }\n",
       "\n",
       "    .dataframe tbody tr th {\n",
       "        vertical-align: top;\n",
       "    }\n",
       "\n",
       "    .dataframe thead th {\n",
       "        text-align: right;\n",
       "    }\n",
       "</style>\n",
       "<table border=\"1\" class=\"dataframe\">\n",
       "  <thead>\n",
       "    <tr style=\"text-align: right;\">\n",
       "      <th></th>\n",
       "      <th>objectid</th>\n",
       "      <th>field1</th>\n",
       "      <th>idfield</th>\n",
       "      <th>x</th>\n",
       "      <th>y</th>\n",
       "      <th>val</th>\n",
       "      <th>date</th>\n",
       "      <th>shape</th>\n",
       "    </tr>\n",
       "  </thead>\n",
       "  <tbody>\n",
       "    <tr>\n",
       "      <th>0</th>\n",
       "      <td>1</td>\n",
       "      <td>0</td>\n",
       "      <td>0</td>\n",
       "      <td>-88.25</td>\n",
       "      <td>30.45</td>\n",
       "      <td>9.308434</td>\n",
       "      <td>2006-01-31</td>\n",
       "      <td>742069.3648</td>\n",
       "    </tr>\n",
       "    <tr>\n",
       "      <th>1</th>\n",
       "      <td>2</td>\n",
       "      <td>1</td>\n",
       "      <td>0</td>\n",
       "      <td>-88.25</td>\n",
       "      <td>30.45</td>\n",
       "      <td>10.494990</td>\n",
       "      <td>2006-02-28</td>\n",
       "      <td>742069.3648</td>\n",
       "    </tr>\n",
       "    <tr>\n",
       "      <th>2</th>\n",
       "      <td>3</td>\n",
       "      <td>2</td>\n",
       "      <td>0</td>\n",
       "      <td>-88.25</td>\n",
       "      <td>30.45</td>\n",
       "      <td>13.001378</td>\n",
       "      <td>2006-03-31</td>\n",
       "      <td>742069.3648</td>\n",
       "    </tr>\n",
       "    <tr>\n",
       "      <th>3</th>\n",
       "      <td>4</td>\n",
       "      <td>3</td>\n",
       "      <td>0</td>\n",
       "      <td>-88.25</td>\n",
       "      <td>30.45</td>\n",
       "      <td>13.529421</td>\n",
       "      <td>2006-04-30</td>\n",
       "      <td>742069.3648</td>\n",
       "    </tr>\n",
       "    <tr>\n",
       "      <th>4</th>\n",
       "      <td>5</td>\n",
       "      <td>4</td>\n",
       "      <td>0</td>\n",
       "      <td>-88.25</td>\n",
       "      <td>30.45</td>\n",
       "      <td>13.389707</td>\n",
       "      <td>2006-05-31</td>\n",
       "      <td>742069.3648</td>\n",
       "    </tr>\n",
       "  </tbody>\n",
       "</table>\n",
       "</div>"
      ],
      "text/plain": [
       "   objectid  field1  idfield      x      y        val       date        shape\n",
       "0         1       0        0 -88.25  30.45   9.308434 2006-01-31  742069.3648\n",
       "1         2       1        0 -88.25  30.45  10.494990 2006-02-28  742069.3648\n",
       "2         3       2        0 -88.25  30.45  13.001378 2006-03-31  742069.3648\n",
       "3         4       3        0 -88.25  30.45  13.529421 2006-04-30  742069.3648\n",
       "4         5       4        0 -88.25  30.45  13.389707 2006-05-31  742069.3648"
      ]
     },
     "execution_count": 4,
     "metadata": {},
     "output_type": "execute_result"
    }
   ],
   "source": [
    "solarDF = PD.DataFrame(columns = solarData.dtype.names)\n",
    "\n",
    "for field in solarData.dtype.names:\n",
    "    solarDF[field] = solarData[field]\n",
    "    \n",
    "solarDF.head()"
   ]
  },
  {
   "cell_type": "markdown",
   "metadata": {},
   "source": [
    "Pandas dataframe is given above. idfield defines the location id of a solar panel with X and Y its coordinates and val is the solar energy produced (MW) from that particular solar panel. Next, we will plot 20 of the 5186 of the time series to visualize their profiles."
   ]
  },
  {
   "cell_type": "code",
   "execution_count": 5,
   "metadata": {},
   "outputs": [
    {
     "data": {
      "image/png": "[encoded data removed]",
      "text/plain": [
       "<Figure size 432x288 with 1 Axes>"
      ]
     },
     "metadata": {},
     "output_type": "display_data"
    }
   ],
   "source": [
    "plotLim = 20\n",
    "count = 0\n",
    "\n",
    "for key, grp in solarDF.groupby(['idfield']): \n",
    "    if count > plotLim:\n",
    "        break\n",
    "    else:\n",
    "        PLT.plot(grp['date'], grp['val'])\n",
    "    count += 1\n",
    "\n",
    "PLT.legend(loc='best')    \n",
    "PLT.show()"
   ]
  },
  {
   "cell_type": "markdown",
   "metadata": {},
   "source": [
    "Clearly, some of the solar cells produce more energy than other with higher peak solar energy production.\n",
    "\n",
    "### Data Preparation\n",
    "\n",
    "Next, we will prepare the data to be fed into the deep neural network for temporal prediction. For the specific architecture and type of neural net used we will scale the time-series. Below we will be performing time series predictions per location (per idfield)."
   ]
  },
  {
   "cell_type": "code",
   "execution_count": 6,
   "metadata": {},
   "outputs": [
    {
     "name": "stderr",
     "output_type": "stream",
     "text": [
      "C:\\ArcGIS\\Pro\\bin\\Python\\envs\\arcgispro-py3\\lib\\site-packages\\ipykernel_launcher.py:15: FutureWarning: reshape is deprecated and will raise in a subsequent release. Please use .values.reshape(...) instead\n",
      "  from ipykernel import kernelapp as app\n"
     ]
    }
   ],
   "source": [
    "# Forecast Time Series Per Location\n",
    "\n",
    "for key, grp in solarDF.groupby(['idfield']): \n",
    "    if count > plotLim:\n",
    "        break\n",
    "    else:\n",
    "        PLT.plot(grp['date'], grp['val'])\n",
    "    count += 1\n",
    "\n",
    "\n",
    "ts = grp['val']\n",
    "\n",
    "scaler = MinMaxScaler(feature_range=(0, 1))\n",
    "\n",
    "tsScaled = scaler.fit_transform(ts.reshape(-1,1))"
   ]
  },
  {
   "cell_type": "markdown",
   "metadata": {},
   "source": [
    "We define a training and test portion of time series to test the deep neural network's performance. In this example, we will use 75% of the time series as training dataset"
   ]
  },
  {
   "cell_type": "code",
   "execution_count": null,
   "metadata": {},
   "outputs": [],
   "source": [
    "trainWindow = 0.75\n",
    "trainSize = int(NUM.floor(trainWindow * tsScaled.shape[0]))\n",
    "\n",
    "tsScTrain, tsScTest = tsScaled[:trainSize], tsScaled[trainSize:]\n",
    "\n",
    "lag = 2\n",
    "tsScTrainX, tsScTrainY = laggedDataset(tsScTrain, lag)\n",
    "tsScTestX, tsScTestY = laggedDataset(tsScTest, lag)\n",
    "\n",
    "tsScTrainX = NUM.reshape(tsScTrainX, (tsScTrainX.shape[0], 1, tsScTrainX.shape[1]))\n",
    "tsScTestX = NUM.reshape(tsScTestX, (tsScTestX.shape[0], 1, tsScTestX.shape[1]))\n"
   ]
  },
  {
   "cell_type": "markdown",
   "metadata": {},
   "source": [
    "### Define the Deep Neural-Network"
   ]
  },
  {
   "cell_type": "code",
   "execution_count": null,
   "metadata": {},
   "outputs": [],
   "source": [
    "### Define the Learning Model for LSTM ###\n",
    "model = Sequential()\n",
    "model.add(LSTM(4, input_shape=(1, lag)))\n",
    "model.add(Dense(1))\n",
    "model.compile(loss='mean_squared_error', optimizer='adam')\n",
    "model.fit(tsScTrainX, tsScTrainY, epochs=100, batch_size=1, verbose=2)"
   ]
  },
  {
   "cell_type": "markdown",
   "metadata": {},
   "source": [
    "Lastly, we will apply the neural-net on the solar energy production data from NREL to predict next month's production of solar energy."
   ]
  },
  {
   "cell_type": "code",
   "execution_count": null,
   "metadata": {},
   "outputs": [],
   "source": [
    "# make predictions\n",
    "predScTrain = model.predict(tsScTrainX)\n",
    "predScTest = model.predict(tsScTestX)\n",
    "# invert predictions\n",
    "predTrain = scaler.inverse_transform(predScTrain)\n",
    "yTrain = scaler.inverse_transform([tsScTrainY])\n",
    "predTest = scaler.inverse_transform(predScTest)\n",
    "yTest = scaler.inverse_transform([tsScTestY])"
   ]
  },
  {
   "cell_type": "markdown",
   "metadata": {},
   "source": [
    "For further analysis we will write the predicted solar energy produced as a feature class and further analyze in ArcGIS Pro."
   ]
  },
  {
   "cell_type": "code",
   "execution_count": null,
   "metadata": {},
   "outputs": [],
   "source": [
    "ARCPY.da.NumPyArrayToFeatureClass(predTest, r'C:\\Users\\orhu8849\\Desktop\\UC 2018\\UC Sessions\\ML_App.gdb\\USsolar_last', ['XY'], ARCPY.SpatialReference(\"c:/coordsystems/NAD 1983.prj\"))"
   ]
  },
  {
   "cell_type": "markdown",
   "metadata": {},
   "source": [
    "Lastly, NREL reported the following map for solar energy potential of U.S. Will we be able to undertand this profile and hopefully reproduce it (closely)?\n",
    "\n",
    "<img src=\"fig/national_photovoltaic.jpg\">"
   ]
  },
  {
   "cell_type": "code",
   "execution_count": null,
   "metadata": {},
   "outputs": [],
   "source": []
  }
 ],
 "metadata": {
  "kernelspec": {
   "display_name": "Python 3",
   "language": "python",
   "name": "python3"
  },
  "language_info": {
   "codemirror_mode": {
    "name": "ipython",
    "version": 3
   },
   "file_extension": ".py",
   "mimetype": "text/x-python",
   "name": "python",
   "nbconvert_exporter": "python",
   "pygments_lexer": "ipython3",
   "version": "3.6.5"
  }
 },
 "nbformat": 4,
 "nbformat_minor": 2
}
