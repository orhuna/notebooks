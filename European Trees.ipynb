{
 "cells": [
  {
   "cell_type": "code",
   "execution_count": 1,
   "metadata": {},
   "outputs": [
    {
     "name": "stderr",
     "output_type": "stream",
     "text": [
      "*** Please call arc.check_product() to define a desktop license.\n",
      "Linking to GEOS 3.8.0, GDAL 3.0.4, PROJ 6.3.1\n",
      "Loading required package: spatstat.data\n",
      "Loading required package: nlme\n",
      "Loading required package: rpart\n",
      "\n",
      "spatstat 1.56-0       (nickname: 'Bondi Tram') \n",
      "For an introduction to spatstat, type 'beginner' \n",
      "\n",
      "\n",
      "Note: R version 3.5.1 (2018-07-02) is more than 9 months old; we strongly recommend upgrading to the latest version\n"
     ]
    }
   ],
   "source": [
    "library(arcgisbinding) ## The R-ArcGIS Bridge\n",
    "library(ggplot2) ## R Package for Plotting Data\n",
    "library(sf) ## Simple Features Package for Spatial Data Representation\n",
    "library(spatstat) ## R Package for spatial statistical methods"
   ]
  },
  {
   "cell_type": "code",
   "execution_count": 2,
   "metadata": {},
   "outputs": [
    {
     "data": {
      "text/html": [
       "<pre><b>product:</b> ArcGIS Pro (12.8.0.28988)\n",
       "<b>license:</b> Advanced\n",
       "<b>version:</b> 1.0.1.244</pre>"
      ],
      "text/latex": [
       "\\begin{description}\n",
       "\\item[\\$license] 'Advanced'\n",
       "\\item[\\$version] '12.8.0.28988'\n",
       "\\item[\\$path] 'C:\\textbackslash{}\\textbackslash{}ArcGISPro\\textbackslash{}\\textbackslash{}'\n",
       "\\item[\\$dll] 'rarcproxy\\_pro'\n",
       "\\item[\\$app] 'ArcGIS Pro'\n",
       "\\item[\\$pkg\\_ver] '1.0.1.244'\n",
       "\\end{description}\n"
      ],
      "text/markdown": [
       "$license\n",
       ":   'Advanced'\n",
       "$version\n",
       ":   '12.8.0.28988'\n",
       "$path\n",
       ":   'C:\\\\ArcGISPro\\\\'\n",
       "$dll\n",
       ":   'rarcproxy_pro'\n",
       "$app\n",
       ":   'ArcGIS Pro'\n",
       "$pkg_ver\n",
       ":   '1.0.1.244'\n",
       "\n",
       "\n"
      ],
      "text/plain": [
       "product: ArcGIS Pro (12.8.0.28988)\n",
       "license: Advanced\n",
       "version: 1.0.1.244 "
      ]
     },
     "metadata": {},
     "output_type": "display_data"
    }
   ],
   "source": [
    "arc.check_product()"
   ]
  },
  {
   "cell_type": "code",
   "execution_count": 3,
   "metadata": {},
   "outputs": [
    {
     "name": "stdout",
     "output_type": "stream",
     "text": [
      "dataset_type    : FeatureClass\n",
      "path            : C:/Users/orhu8849/Documents/ArcGIS/Projects/TreesEurope/TreesEurope.gdb/EUForestspecies_XYTableToPoint \n",
      "fields          : OBJECTID, Shape, X, Y, COUNTRY, SPECIES_NAME, DBH_1, DBH_2, \n",
      "fields          : NFI, FF, BS, EEO\n",
      "extent          : xmin=1551500, ymin=843500, xmax=6444500, ymax=5355000\n",
      "geometry type   : Point\n",
      "WKT             : PROJCS[\"ETRS_1989_LAEA\",GEOGCS[\"GCS_ETRS_1989\",DATUM[\"D_ETRS...\n",
      "WKID            : 3035 \n"
     ]
    }
   ],
   "source": [
    "## Define the directory to the Geodatabase in a variable called dir.gdb\n",
    "dir.gdb <- 'C:/Users/orhu8849/Documents/ArcGIS/Projects/TreesEurope/TreesEurope.gdb'\n",
    "## The name of the feature class containing Trees from Europe\n",
    "fc.name <- 'EUForestspecies_XYTableToPoint'\n",
    "## Describe the Tree Data\n",
    "tree.meta <- arc.open(file.path(dir.gdb, fc.name))\n",
    "print(tree.meta)"
   ]
  },
  {
   "cell_type": "code",
   "execution_count": 4,
   "metadata": {},
   "outputs": [
    {
     "data": {
      "text/latex": [
       "\\begin{tabular}{r|lllllllllll}\n",
       " OBJECTID & X & Y & COUNTRY & SPECIES\\_NAME & DBH\\_1 & DBH\\_2 & NFI & FF & BS & EEO\\\\\n",
       "\\hline\n",
       "\t 1          & 4305500    & 2674500    & Austria    & Abies alba & -9999      & -9999      & -9999      &     1      & -9999      & 1         \\\\\n",
       "\t 2          & 4576500    & 2705500    & Austria    & Abies alba &     1      &     1      &     1      & -9999      & -9999      & 1         \\\\\n",
       "\t 3          & 4570500    & 2721500    & Austria    & Abies alba &     1      &     1      &     1      & -9999      & -9999      & 1         \\\\\n",
       "\t 4          & 4300500    & 2663500    & Austria    & Abies alba & -9999      &     1      &     1      & -9999      & -9999      & 1         \\\\\n",
       "\t 5          & 4610500    & 2811500    & Austria    & Abies alba & -9999      &     1      &     1      & -9999      & -9999      & 1         \\\\\n",
       "\t 6          & 4682500    & 2614000    & Austria    & Abies alba & -9999      & -9999      & -9999      & -9999      &     1      & 1         \\\\\n",
       "\\end{tabular}\n"
      ],
      "text/markdown": [
       "\n",
       "OBJECTID | X | Y | COUNTRY | SPECIES_NAME | DBH_1 | DBH_2 | NFI | FF | BS | EEO | \n",
       "|---|---|---|---|---|---|\n",
       "| 1          | 4305500    | 2674500    | Austria    | Abies alba | -9999      | -9999      | -9999      |     1      | -9999      | 1          | \n",
       "| 2          | 4576500    | 2705500    | Austria    | Abies alba |     1      |     1      |     1      | -9999      | -9999      | 1          | \n",
       "| 3          | 4570500    | 2721500    | Austria    | Abies alba |     1      |     1      |     1      | -9999      | -9999      | 1          | \n",
       "| 4          | 4300500    | 2663500    | Austria    | Abies alba | -9999      |     1      |     1      | -9999      | -9999      | 1          | \n",
       "| 5          | 4610500    | 2811500    | Austria    | Abies alba | -9999      |     1      |     1      | -9999      | -9999      | 1          | \n",
       "| 6          | 4682500    | 2614000    | Austria    | Abies alba | -9999      | -9999      | -9999      | -9999      |     1      | 1          | \n",
       "\n",
       "\n"
      ],
      "text/plain": [
       "  OBJECTID X       Y       COUNTRY SPECIES_NAME DBH_1 DBH_2 NFI   FF    BS   \n",
       "1 1        4305500 2674500 Austria Abies alba   -9999 -9999 -9999     1 -9999\n",
       "2 2        4576500 2705500 Austria Abies alba       1     1     1 -9999 -9999\n",
       "3 3        4570500 2721500 Austria Abies alba       1     1     1 -9999 -9999\n",
       "4 4        4300500 2663500 Austria Abies alba   -9999     1     1 -9999 -9999\n",
       "5 5        4610500 2811500 Austria Abies alba   -9999     1     1 -9999 -9999\n",
       "6 6        4682500 2614000 Austria Abies alba   -9999 -9999 -9999 -9999     1\n",
       "  EEO\n",
       "1 1  \n",
       "2 1  \n",
       "3 1  \n",
       "4 1  \n",
       "5 1  \n",
       "6 1  "
      ]
     },
     "metadata": {},
     "output_type": "display_data"
    }
   ],
   "source": [
    "## Get the data for European Trees into R\n",
    "tree.arc <- arc.select(tree.meta)\n",
    "head(tree.arc)"
   ]
  },
  {
   "cell_type": "code",
   "execution_count": 5,
   "metadata": {},
   "outputs": [
    {
     "data": {
      "text/html": [
       "<table>\n",
       "<thead><tr><th scope=col>OBJECTID</th><th scope=col>X</th><th scope=col>Y</th><th scope=col>COUNTRY</th><th scope=col>SPECIES_NAME</th><th scope=col>DBH_1</th><th scope=col>DBH_2</th><th scope=col>NFI</th><th scope=col>FF</th><th scope=col>BS</th><th scope=col>EEO</th><th scope=col>geom</th></tr></thead>\n",
       "<tbody>\n",
       "\t<tr><td>1                      </td><td>4305500                </td><td>2674500                </td><td>Austria                </td><td>Abies alba             </td><td>-9999                  </td><td>-9999                  </td><td>-9999                  </td><td>    1                  </td><td>-9999                  </td><td>1                      </td><td>POINT (4305500 2674500)</td></tr>\n",
       "\t<tr><td>2                      </td><td>4576500                </td><td>2705500                </td><td>Austria                </td><td>Abies alba             </td><td>    1                  </td><td>    1                  </td><td>    1                  </td><td>-9999                  </td><td>-9999                  </td><td>1                      </td><td>POINT (4576500 2705500)</td></tr>\n",
       "\t<tr><td>3                      </td><td>4570500                </td><td>2721500                </td><td>Austria                </td><td>Abies alba             </td><td>    1                  </td><td>    1                  </td><td>    1                  </td><td>-9999                  </td><td>-9999                  </td><td>1                      </td><td>POINT (4570500 2721500)</td></tr>\n",
       "\t<tr><td>4                      </td><td>4300500                </td><td>2663500                </td><td>Austria                </td><td>Abies alba             </td><td>-9999                  </td><td>    1                  </td><td>    1                  </td><td>-9999                  </td><td>-9999                  </td><td>1                      </td><td>POINT (4300500 2663500)</td></tr>\n",
       "\t<tr><td>5                      </td><td>4610500                </td><td>2811500                </td><td>Austria                </td><td>Abies alba             </td><td>-9999                  </td><td>    1                  </td><td>    1                  </td><td>-9999                  </td><td>-9999                  </td><td>1                      </td><td>POINT (4610500 2811500)</td></tr>\n",
       "\t<tr><td>6                      </td><td>4682500                </td><td>2614000                </td><td>Austria                </td><td>Abies alba             </td><td>-9999                  </td><td>-9999                  </td><td>-9999                  </td><td>-9999                  </td><td>    1                  </td><td>1                      </td><td>POINT (4682500 2614000)</td></tr>\n",
       "</tbody>\n",
       "</table>\n"
      ],
      "text/latex": [
       "\\begin{tabular}{r|llllllllllll}\n",
       " OBJECTID & X & Y & COUNTRY & SPECIES\\_NAME & DBH\\_1 & DBH\\_2 & NFI & FF & BS & EEO & geom\\\\\n",
       "\\hline\n",
       "\t 1                       & 4305500                 & 2674500                 & Austria                 & Abies alba              & -9999                   & -9999                   & -9999                   &     1                   & -9999                   & 1                       & POINT (4305500 2674500)\\\\\n",
       "\t 2                       & 4576500                 & 2705500                 & Austria                 & Abies alba              &     1                   &     1                   &     1                   & -9999                   & -9999                   & 1                       & POINT (4576500 2705500)\\\\\n",
       "\t 3                       & 4570500                 & 2721500                 & Austria                 & Abies alba              &     1                   &     1                   &     1                   & -9999                   & -9999                   & 1                       & POINT (4570500 2721500)\\\\\n",
       "\t 4                       & 4300500                 & 2663500                 & Austria                 & Abies alba              & -9999                   &     1                   &     1                   & -9999                   & -9999                   & 1                       & POINT (4300500 2663500)\\\\\n",
       "\t 5                       & 4610500                 & 2811500                 & Austria                 & Abies alba              & -9999                   &     1                   &     1                   & -9999                   & -9999                   & 1                       & POINT (4610500 2811500)\\\\\n",
       "\t 6                       & 4682500                 & 2614000                 & Austria                 & Abies alba              & -9999                   & -9999                   & -9999                   & -9999                   &     1                   & 1                       & POINT (4682500 2614000)\\\\\n",
       "\\end{tabular}\n"
      ],
      "text/markdown": [
       "\n",
       "OBJECTID | X | Y | COUNTRY | SPECIES_NAME | DBH_1 | DBH_2 | NFI | FF | BS | EEO | geom | \n",
       "|---|---|---|---|---|---|\n",
       "| 1                       | 4305500                 | 2674500                 | Austria                 | Abies alba              | -9999                   | -9999                   | -9999                   |     1                   | -9999                   | 1                       | POINT (4305500 2674500) | \n",
       "| 2                       | 4576500                 | 2705500                 | Austria                 | Abies alba              |     1                   |     1                   |     1                   | -9999                   | -9999                   | 1                       | POINT (4576500 2705500) | \n",
       "| 3                       | 4570500                 | 2721500                 | Austria                 | Abies alba              |     1                   |     1                   |     1                   | -9999                   | -9999                   | 1                       | POINT (4570500 2721500) | \n",
       "| 4                       | 4300500                 | 2663500                 | Austria                 | Abies alba              | -9999                   |     1                   |     1                   | -9999                   | -9999                   | 1                       | POINT (4300500 2663500) | \n",
       "| 5                       | 4610500                 | 2811500                 | Austria                 | Abies alba              | -9999                   |     1                   |     1                   | -9999                   | -9999                   | 1                       | POINT (4610500 2811500) | \n",
       "| 6                       | 4682500                 | 2614000                 | Austria                 | Abies alba              | -9999                   | -9999                   | -9999                   | -9999                   |     1                   | 1                       | POINT (4682500 2614000) | \n",
       "\n",
       "\n"
      ],
      "text/plain": [
       "  OBJECTID X       Y       COUNTRY SPECIES_NAME DBH_1 DBH_2 NFI   FF    BS   \n",
       "1 1        4305500 2674500 Austria Abies alba   -9999 -9999 -9999     1 -9999\n",
       "2 2        4576500 2705500 Austria Abies alba       1     1     1 -9999 -9999\n",
       "3 3        4570500 2721500 Austria Abies alba       1     1     1 -9999 -9999\n",
       "4 4        4300500 2663500 Austria Abies alba   -9999     1     1 -9999 -9999\n",
       "5 5        4610500 2811500 Austria Abies alba   -9999     1     1 -9999 -9999\n",
       "6 6        4682500 2614000 Austria Abies alba   -9999 -9999 -9999 -9999     1\n",
       "  EEO geom                   \n",
       "1 1   POINT (4305500 2674500)\n",
       "2 1   POINT (4576500 2705500)\n",
       "3 1   POINT (4570500 2721500)\n",
       "4 1   POINT (4300500 2663500)\n",
       "5 1   POINT (4610500 2811500)\n",
       "6 1   POINT (4682500 2614000)"
      ]
     },
     "metadata": {},
     "output_type": "display_data"
    }
   ],
   "source": [
    "## Convert the arc object to SF object for spatial analysis\n",
    "tree.sf <- arc.data2sf(tree.arc)\n",
    "head(tree.sf)"
   ]
  },
  {
   "cell_type": "code",
   "execution_count": 7,
   "metadata": {},
   "outputs": [],
   "source": [
    "## Not an Assignment Task: Getting Unique Values\n",
    "## Try unique function on the SF Object\n",
    "#uniqueTrees <- unique(trees.nospatial[\"SPECIES_NAME\"]) ## Not Working. \n",
    "? unique\n",
    "## It seems unique requires a data.frame not a spatial data frame"
   ]
  },
  {
   "cell_type": "code",
   "execution_count": 8,
   "metadata": {},
   "outputs": [
    {
     "name": "stdout",
     "output_type": "stream",
     "text": [
      "[1] \"242 number of tree species exist\"\n"
     ]
    }
   ],
   "source": [
    "## Remove the Spatial Component (Geometry) of SF Object and Create a Generic Data Frame\n",
    "trees.nospatial <- data.frame(tree.sf)\n",
    "## Use Unique Function to get Unique Values\n",
    "uniqueTrees <- unique(trees.nospatial[\"SPECIES_NAME\"])\n",
    "## Print the number of Unique Species\n",
    "print(paste0(dim(uniqueTrees)[1], ' number of tree species exist'))"
   ]
  },
  {
   "cell_type": "code",
   "execution_count": 9,
   "metadata": {},
   "outputs": [
    {
     "data": {
      "text/plain": [
       "\n",
       "              Abies alba        Abies cephalonica            Abies grandis \n",
       "                    9383                        7                      436 \n",
       "      Abies nordmanniana            Abies pinsapo            Abies procera \n",
       "                     315                       47                      431 \n",
       "         Acacia dealbata       Acacia melanoxylon           Acer campestre \n",
       "                      38                       48                     5781 \n",
       "       Acer cappadocicum      Acer monspessulanum             Acer negundo \n",
       "                      19                      716                      204 \n",
       "             Acer opalus         Acer platanoides      Acer pseudoplatanus \n",
       "                    1009                     2096                    12412 \n",
       "        Acer saccharinum           Acer tataricum   Aesculus hippocastanum \n",
       "                      16                      173                      310 \n",
       "     Ailanthus altissima         Alnus alnobetula            Alnus cordata \n",
       "                     136                       34                      147 \n",
       "         Alnus glutinosa             Alnus incana       Amelanchier ovalis \n",
       "                    9781                     6562                        2 \n",
       "       Arbutus andrachne            Arbutus unedo           Betula humilis \n",
       "                       1                     1673                        1 \n",
       "             Betula nana           Betula pendula         Betula pubescens \n",
       "                      62                    20559                    26676 \n",
       "      Buxus sempervirens         Carpinus betulus      Carpinus orientalis \n",
       "                     149                    13224                      152 \n",
       "         Castanea sativa         Cedrus atlantica           Cedrus deodara \n",
       "                    9106                       90                        4 \n",
       "           Cedrus libani         Celtis australis        Ceratonia siliqua \n",
       "                      10                      156                      379 \n",
       "     Cercis siliquastrum Chamaecyparis lawsoniana       Chamaerops humilis \n",
       "                      13                      272                        3 \n",
       "              Cornus mas         Cornus sanguinea           Cornus suecica \n",
       "                     267                      239                       11 \n",
       "        Corylus avellana Cotoneaster integerrimus       Crataegus azarolus \n",
       "                    3923                        5                        3 \n",
       "    Crataegus crus-galli      Crataegus laciniata      Crataegus laevigata \n",
       "                       9                        2                      201 \n",
       "      Crataegus monogyna      Cupressus arizonica     Cupressus lusitanica \n",
       "                    2438                       81                        3 \n",
       "    Cupressus macrocarpa   Cupressus sempervirens     Elaeagnus rhamnoides \n",
       "                      10                      191                        5 \n",
       "           Erica arborea           Erica scoparia Eucalyptus camaldulensis \n",
       "                     309                       19                      782 \n",
       "     Eucalyptus globulus Eucalyptus gomphocephala       Euonymus europaeus \n",
       "                       6                       35                      159 \n",
       "     Euonymus latifolius      Euonymus verrucosus          Fagus sylvatica \n",
       "                       6                       21                    35862 \n",
       "            Ficus carica           Frangula alnus       Frangula rupestris \n",
       "                      80                     1829                        1 \n",
       "   Fraxinus angustifolia       Fraxinus excelsior           Fraxinus ornus \n",
       "                    1049                    17891                     2084 \n",
       "       Fraxinus pallisae   Fraxinus pennsylvanica          Ilex aquifolium \n",
       "                       3                      156                     1250 \n",
       "        Ilex canariensis          Juglans cinerea            Juglans nigra \n",
       "                     138                        1                      640 \n",
       "           Juglans regia       Juniperus communis      Juniperus oxycedrus \n",
       "                     169                      658                     1007 \n",
       "     Juniperus phoenicea         Juniperus sabina      Juniperus thurifera \n",
       "                     289                        1                     1858 \n",
       "    Juniperus virginiana         Laburnum alpinum     Laburnum anagyroides \n",
       "                       4                       14                      105 \n",
       "           Larix decidua          Larix kaempferi           Larix sibirica \n",
       "                    8204                     3323                        3 \n",
       "          Laurus azorica           Laurus nobilis        Ligustrum vulgare \n",
       "                     139                      113                      168 \n",
       " Liriodendron tulipifera         Maclura pomifera          Malus domestica \n",
       "                       1                        1                       30 \n",
       "        Malus sylvestris       Mespilus germanica               Morus alba \n",
       "                     552                       10                      134 \n",
       "             Morus nigra              Myrica faya          Myrtus communis \n",
       "                      16                      219                        2 \n",
       "           Olea europaea      Ostrya carpinifolia   Paliurus spina-christi \n",
       "                    1274                     1495                        1 \n",
       "     Paulownia tomentosa            Persea indica   Phillyrea angustifolia \n",
       "                       5                       43                       31 \n",
       "     Phillyrea latifolia      Phoenix canariensis         Picconia excelsa \n",
       "                     461                       27                       21 \n",
       "             Picea abies        Picea engelmannii             Picea glauca \n",
       "                   70310                        1                      161 \n",
       "           Picea omorika            Picea pungens         Picea sitchensis \n",
       "                     129                      124                     9189 \n",
       "         Pinus banksiana             Pinus brutia        Pinus canariensis \n",
       "                      22                       18                     1002 \n",
       "            Pinus cembra           Pinus contorta         Pinus halepensis \n",
       "                     346                     2971                    13120 \n",
       "       Pinus heldreichii               Pinus mugo              Pinus nigra \n",
       "                       1                     1631                    10652 \n",
       "          Pinus pinaster              Pinus pinea          Pinus ponderosa \n",
       "                   16510                     4373                        4 \n",
       "           Pinus radiata            Pinus strobus         Pinus sylvestris \n",
       "                    2382                      355                    75720 \n",
       "       Pinus wallichiana       Pistacia atlantica       Pistacia lentiscus \n",
       "                       1                        3                       39 \n",
       "    Pistacia terebinthus      Platanus acerifolia      Platanus orientalis \n",
       "                      84                       11                       10 \n",
       "            Populus alba      Populus balsamifera        Populus canescens \n",
       "                     588                        1                      562 \n",
       "           Populus nigra          Populus tremula         Prunus armeniaca \n",
       "                    2122                    10282                       29 \n",
       "            Prunus avium        Prunus brigantina        Prunus cerasifera \n",
       "                    5650                        2                      144 \n",
       "          Prunus cerasus         Prunus domestica            Prunus dulcis \n",
       "                      15                      152                        6 \n",
       "       Prunus lusitanica           Prunus mahaleb             Prunus padus \n",
       "                      12                      104                     1214 \n",
       "          Prunus persica          Prunus serotina           Prunus spinosa \n",
       "                       1                      544                      324 \n",
       "       Prunus virginiana    Pseudotsuga menziesii     Pyrus amygdaliformis \n",
       "                       5                     5255                       11 \n",
       "          Pyrus communis           Pyrus pyraster        Quercus alnifolia \n",
       "                     159                      581                        8 \n",
       "     Quercus canariensis           Quercus cerris        Quercus coccifera \n",
       "                     271                     3643                       32 \n",
       "        Quercus congesta      Quercus dalechampii          Quercus faginea \n",
       "                       2                        1                     5077 \n",
       "       Quercus frainetto             Quercus ilex     Quercus ithaburensis \n",
       "                     313                    22661                        2 \n",
       "       Quercus palustris          Quercus petraea        Quercus pubescens \n",
       "                       9                    17117                     8523 \n",
       "       Quercus pyrenaica            Quercus robur            Quercus rubra \n",
       "                    5924                    31079                     1735 \n",
       "           Quercus suber          Quercus trojana        Rhamnus alaternus \n",
       "                    5975                       18                       89 \n",
       "          Rhamnus alpina       Rhamnus cathartica        Rhamnus lycioides \n",
       "                       9                       63                       12 \n",
       "       Rhamnus saxatilis            Rhus coriaria             Rhus typhina \n",
       "                       7                        1                        1 \n",
       "    Robinia pseudoacacia               Salix alba      Salix appendiculata \n",
       "                    4821                      715                        6 \n",
       "       Salix atrocinerea             Salix aurita         Salix babylonica \n",
       "                     467                      108                        4 \n",
       "           Salix bicolor             Salix caprea            Salix cinerea \n",
       "                       3                     6686                      320 \n",
       "        Salix daphnoides           Salix eleagnos            Salix foetida \n",
       "                       1                       25                        1 \n",
       "          Salix fragilis             Salix glabra             Salix glauca \n",
       "                     126                        2                        1 \n",
       "           Salix hastata             Salix lanata           Salix lapponum \n",
       "                       1                        1                       10 \n",
       "      Salix myrsinifolia       Salix myrtilloides          Salix pentandra \n",
       "                      31                        9                        9 \n",
       "      Salix phylicifolia           Salix purpurea             Salix repens \n",
       "                     162                        9                       11 \n",
       "    Salix rosmarinifolia        Salix salviifolia          Salix silesiaca \n",
       "                       4                        2                        1 \n",
       "         Salix starkeana          Salix viminalis           Sambucus nigra \n",
       "                      12                        6                      209 \n",
       "       Sambucus racemosa              Sorbus aria         Sorbus aucuparia \n",
       "                       8                     2113                    10722 \n",
       "   Sorbus chamaemespilus         Sorbus domestica            Sorbus graeca \n",
       "                       7                      270                        1 \n",
       "       Sorbus intermedia         Sorbus latifolia         Sorbus mougeotii \n",
       "                      72                        4                        8 \n",
       "       Sorbus torminalis  Styphnolobium japonicum         Tamarix africana \n",
       "                    1613                      310                        1 \n",
       "     Tamarix canariensis            Taxus baccata   Tetraclinis articulata \n",
       "                       2                      434                        1 \n",
       "           Thuja plicata            Tilia cordata       Tilia platyphyllos \n",
       "                     188                     2718                     1078 \n",
       "         Tilia tomentosa       Tsuga heterophylla          Ulmus canescens \n",
       "                     190                      344                        1 \n",
       "            Ulmus glabra             Ulmus laevis              Ulmus minor \n",
       "                     887                      171                     1848 \n",
       "    Vachellia farnesiana          Viburnum opulus \n",
       "                       3                        2 "
      ]
     },
     "metadata": {},
     "output_type": "display_data"
    }
   ],
   "source": [
    "## Even a Simpler Way to do it\n",
    "tree.table <- table(tree.sf$SPECIES_NAME)\n",
    "tree.table"
   ]
  },
  {
   "cell_type": "markdown",
   "metadata": {},
   "source": [
    "### Going Back Spatial Patterns of Tree Occurence\n"
   ]
  },
  {
   "cell_type": "code",
   "execution_count": 10,
   "metadata": {},
   "outputs": [
    {
     "data": {
      "image/png": "[encoded data removed]",
      "text/plain": [
       "Plot with title \"SPECIES_NAME\""
      ]
     },
     "metadata": {},
     "output_type": "display_data"
    }
   ],
   "source": [
    "my.species <- 'Acer opalus' ## I pasted this species from the table above\n",
    "ind <- tree.sf$SPECIES_NAME==my.species ## This is a logical index (you can print it if you want to)\n",
    "plot(tree.sf[ind,'SPECIES_NAME']) ## I want a spatial plot of my species"
   ]
  },
  {
   "cell_type": "markdown",
   "metadata": {},
   "source": [
    "In the plot above, I can see some clusters. If I squint I can see 3 big clusters, if I open my eyes a bit the fourth cluster in south-west (bottom left) emerges. How I can define these numerically? Let's calculate the nearest distance, the same nearest distance idea introduced in the lecture."
   ]
  },
  {
   "cell_type": "code",
   "execution_count": 11,
   "metadata": {},
   "outputs": [],
   "source": [
    "my.tree <- tree.sf[ind,] ## Get Acer Opalus and the all columns of the original dataset\n",
    "#dists <- nndist(my.tree) ## This did not work, what do we do when things that don't work?\n",
    "? nndist"
   ]
  },
  {
   "cell_type": "markdown",
   "metadata": {},
   "source": [
    "The doc above tells me that `nndist` expects \"Arguments specifying the locations of a set of points. \" This means coordinates, now that I know I have an SF object, how do I get the coordinates. "
   ]
  },
  {
   "cell_type": "code",
   "execution_count": 12,
   "metadata": {},
   "outputs": [
    {
     "data": {
      "image/png": "[encoded data removed]",
      "text/plain": [
       "Plot with title \"Histogram of dists\""
      ]
     },
     "metadata": {},
     "output_type": "display_data"
    }
   ],
   "source": [
    "my.tree.locs <- st_coordinates(my.tree) ## Google told me I can use this function for getting coordinates of an sf object\n",
    "dists <-nndist(my.tree.locs, k=1) ## We need distances to the next nearest neighbor (k=1)\n",
    "hist(dists)"
   ]
  },
  {
   "cell_type": "markdown",
   "metadata": {},
   "source": [
    "Here, small distance correspond to distance at which points are clustered. More rigorous methods of finding point pattern parameters, such as maximum likelihood, exists. Since we did not learn them in class, let's find an interaction distance from nndist."
   ]
  },
  {
   "cell_type": "code",
   "execution_count": 13,
   "metadata": {},
   "outputs": [
    {
     "data": {
      "text/html": [
       "3605.55127546399"
      ],
      "text/latex": [
       "3605.55127546399"
      ],
      "text/markdown": [
       "3605.55127546399"
      ],
      "text/plain": [
       "[1] 3605.551"
      ]
     },
     "metadata": {},
     "output_type": "display_data"
    }
   ],
   "source": [
    "d.inter <- median(dists) ## You can use the mean too. You can use any distance as a matter of fact.\n",
    "d.inter"
   ]
  },
  {
   "cell_type": "markdown",
   "metadata": {},
   "source": [
    "### Fitting a Point Process Model\n",
    "\n",
    "Let's fit a point process model to this dataset.\n",
    "\n"
   ]
  },
  {
   "cell_type": "code",
   "execution_count": 14,
   "metadata": {},
   "outputs": [],
   "source": [
    "?Strauss"
   ]
  },
  {
   "cell_type": "markdown",
   "metadata": {},
   "source": [
    "The document tells me that I need to define an interaction distance for a Strauss model. I will use `d.inter` the median distance to get to my nearest neighbor for that."
   ]
  },
  {
   "cell_type": "code",
   "execution_count": 15,
   "metadata": {},
   "outputs": [],
   "source": [
    "strauss.model <- Strauss(d.inter)## This defines a general Strauss point process model. Currently this model is not conditioned to data"
   ]
  },
  {
   "cell_type": "code",
   "execution_count": 16,
   "metadata": {},
   "outputs": [],
   "source": [
    "## Using the Example in the Doc for Strauss I will use ppm to fit the model to data\n",
    "#ppm(my.tree, ~1, model)"
   ]
  },
  {
   "cell_type": "markdown",
   "metadata": {},
   "source": [
    "The function above is complaining about not having a point pattern. Going to the dock for spatstat package, I see that I can define it using `as.ppp` function. It needs coordinates for points and a bounding box `W`. I look for a way to get the bounding box for `my.tree` and see the function `st_bbox`."
   ]
  },
  {
   "cell_type": "code",
   "execution_count": 17,
   "metadata": {},
   "outputs": [
    {
     "data": {
      "text/plain": [
       "Planar point pattern: 1009 points\n",
       "window: rectangle = [2954500, 4900000] x [1652500, 2759500] units"
      ]
     },
     "metadata": {},
     "output_type": "display_data"
    }
   ],
   "source": [
    "bbox <- st_bbox(my.tree)\n",
    "my.tree.locs <- st_coordinates(my.tree)\n",
    "my.tree.ppp <- as.ppp(my.tree.locs, W = bbox)\n",
    "my.tree.ppp"
   ]
  },
  {
   "cell_type": "code",
   "execution_count": 18,
   "metadata": {},
   "outputs": [
    {
     "data": {
      "text/plain": [
       "Stationary Strauss process\n",
       "\n",
       "First order term:  beta = 3.98842e-10\n",
       "\n",
       "Interaction distance:\t3605.551\n",
       "Fitted interaction parameter gamma:\t 1.8086951\n",
       "\n",
       "Relevant coefficients:\n",
       "Interaction \n",
       "  0.5926057 \n",
       "\n",
       "For standard errors, type coef(summary(x))\n",
       "\n",
       "*** Model is not valid ***\n",
       "*** Interaction parameters are outside valid range ***"
      ]
     },
     "metadata": {},
     "output_type": "display_data"
    }
   ],
   "source": [
    "fitted.model <- ppm(my.tree.ppp, ~1, strauss.model) # As per Strauss doc, ~1 implies we are fitting a point process model without a mark\n",
    "fitted.model"
   ]
  },
  {
   "cell_type": "markdown",
   "metadata": {},
   "source": [
    "### Extra: \n",
    "Here, every pattern contributes a factor of gamma to the overall density if are within interaction distance, overall every points contributes an amount beta (which is very small compared to our gamma). We would like gamma to be less than 1, so that entire point process is not only dominated by interaction terms and we can model some spatial randomness in the data. Here I will increase the interaction distance and retry the model."
   ]
  },
  {
   "cell_type": "code",
   "execution_count": 19,
   "metadata": {},
   "outputs": [
    {
     "data": {
      "text/plain": [
       "Stationary Strauss process\n",
       "\n",
       "First order term:  beta = 3.510569e-10\n",
       "\n",
       "Interaction distance:\t7211.103\n",
       "Fitted interaction parameter gamma:\t 1.467842\n",
       "\n",
       "Relevant coefficients:\n",
       "Interaction \n",
       "  0.3837933 \n",
       "\n",
       "For standard errors, type coef(summary(x))\n",
       "\n",
       "*** Model is not valid ***\n",
       "*** Interaction parameters are outside valid range ***"
      ]
     },
     "metadata": {},
     "output_type": "display_data"
    }
   ],
   "source": [
    "strauss.model2 <- Strauss(d.inter*2)\n",
    "fitted.model2 <- ppm(my.tree.ppp, ~1, strauss.model2) # Only difference compared to above is the model\n",
    "fitted.model2"
   ]
  },
  {
   "cell_type": "code",
   "execution_count": 20,
   "metadata": {},
   "outputs": [
    {
     "data": {
      "text/html": [
       "<strong>Interaction:</strong> 0.383793290303152"
      ],
      "text/latex": [
       "\\textbf{Interaction:} 0.383793290303152"
      ],
      "text/markdown": [
       "**Interaction:** 0.383793290303152"
      ],
      "text/plain": [
       "Interaction \n",
       "  0.3837933 "
      ]
     },
     "metadata": {},
     "output_type": "display_data"
    }
   ],
   "source": [
    "fitted.model2$coef[2] ## In R I see that the output contains coef attributes, it shows that second one is interaction."
   ]
  },
  {
   "cell_type": "markdown",
   "metadata": {},
   "source": [
    "Impact of gamma went down but it is still high. What is happening here? The data has a strong trend. Take a look at the spatial distributions of the trees, they are observed frequently up north but I am using a Stationary Strauss process, thus I cannot model the **trend** in the data. That is fine for this simple model."
   ]
  },
  {
   "cell_type": "markdown",
   "metadata": {},
   "source": [
    "### Running the analysis above for every species\n",
    "Analysis above can be performed for any species by simply changing the variable `my.species`. Next, I will set up an R loop to change this variable in a loop. Since we a list of unique species name under `uniqueTrees`, we can fit the model the same way to every tree type."
   ]
  },
  {
   "cell_type": "code",
   "execution_count": 21,
   "metadata": {},
   "outputs": [
    {
     "name": "stdout",
     "output_type": "stream",
     "text": [
      "  [1] \"Abies alba\"               \"Acer campestre\"          \n",
      "  [3] \"Acer negundo\"             \"Acer platanoides\"        \n",
      "  [5] \"Acer pseudoplatanus\"      \"Ailanthus altissima\"     \n",
      "  [7] \"Alnus alnobetula\"         \"Alnus glutinosa\"         \n",
      "  [9] \"Alnus incana\"             \"Betula pendula\"          \n",
      " [11] \"Betula pubescens\"         \"Carpinus betulus\"        \n",
      " [13] \"Castanea sativa\"          \"Cornus mas\"              \n",
      " [15] \"Cornus sanguinea\"         \"Corylus avellana\"        \n",
      " [17] \"Crataegus monogyna\"       \"Euonymus europaeus\"      \n",
      " [19] \"Euonymus verrucosus\"      \"Fagus sylvatica\"         \n",
      " [21] \"Frangula alnus\"           \"Fraxinus angustifolia\"   \n",
      " [23] \"Fraxinus excelsior\"       \"Fraxinus ornus\"          \n",
      " [25] \"Ilex aquifolium\"          \"Juglans nigra\"           \n",
      " [27] \"Juglans regia\"            \"Juniperus communis\"      \n",
      " [29] \"Larix decidua\"            \"Ligustrum vulgare\"       \n",
      " [31] \"Picea abies\"              \"Pinus cembra\"            \n",
      " [33] \"Pinus mugo\"               \"Pinus nigra\"             \n",
      " [35] \"Pinus strobus\"            \"Pinus sylvestris\"        \n",
      " [37] \"Populus alba\"             \"Populus canescens\"       \n",
      " [39] \"Populus nigra\"            \"Populus tremula\"         \n",
      " [41] \"Prunus avium\"             \"Prunus padus\"            \n",
      " [43] \"Prunus spinosa\"           \"Pseudotsuga menziesii\"   \n",
      " [45] \"Pyrus pyraster\"           \"Quercus cerris\"          \n",
      " [47] \"Quercus petraea\"          \"Quercus pubescens\"       \n",
      " [49] \"Quercus robur\"            \"Quercus rubra\"           \n",
      " [51] \"Rhamnus cathartica\"       \"Robinia pseudoacacia\"    \n",
      " [53] \"Salix alba\"               \"Salix caprea\"            \n",
      " [55] \"Salix fragilis\"           \"Salix purpurea\"          \n",
      " [57] \"Sorbus aria\"              \"Sorbus aucuparia\"        \n",
      " [59] \"Sorbus chamaemespilus\"    \"Sorbus torminalis\"       \n",
      " [61] \"Taxus baccata\"            \"Tilia cordata\"           \n",
      " [63] \"Tilia platyphyllos\"       \"Ulmus glabra\"            \n",
      " [65] \"Ulmus laevis\"             \"Ulmus minor\"             \n",
      " [67] \"Prunus serotina\"          \"Ostrya carpinifolia\"     \n",
      " [69] \"Pinus halepensis\"         \"Quercus ilex\"            \n",
      " [71] \"Arbutus andrachne\"        \"Cedrus libani\"           \n",
      " [73] \"Crataegus azarolus\"       \"Olea europaea\"           \n",
      " [75] \"Pinus brutia\"             \"Pistacia lentiscus\"      \n",
      " [77] \"Pistacia terebinthus\"     \"Quercus alnifolia\"       \n",
      " [79] \"Quercus coccifera\"        \"Rhamnus alaternus\"       \n",
      " [81] \"Abies grandis\"            \"Abies procera\"           \n",
      " [83] \"Aesculus hippocastanum\"   \"Cotoneaster integerrimus\"\n",
      " [85] \"Crataegus laevigata\"      \"Malus sylvestris\"        \n",
      " [87] \"Picea engelmannii\"        \"Picea glauca\"            \n",
      " [89] \"Picea omorika\"            \"Picea pungens\"           \n",
      " [91] \"Pinus banksiana\"          \"Pinus contorta\"          \n",
      " [93] \"Platanus acerifolia\"      \"Prunus domestica\"        \n",
      " [95] \"Pyrus communis\"           \"Quercus palustris\"       \n",
      " [97] \"Salix aurita\"             \"Salix cinerea\"           \n",
      " [99] \"Abies nordmanniana\"       \"Carpinus orientalis\"     \n",
      "[101] \"Cupressus sempervirens\"   \"Larix kaempferi\"         \n",
      "[103] \"Malus domestica\"          \"Picea sitchensis\"        \n",
      "[105] \"Prunus cerasifera\"        \"Sorbus intermedia\"       \n",
      "[107] \"Betula nana\"              \"Cornus suecica\"          \n",
      "[109] \"Larix sibirica\"           \"Salix glauca\"            \n",
      "[111] \"Salix hastata\"            \"Salix lanata\"            \n",
      "[113] \"Salix lapponum\"           \"Salix myrsinifolia\"      \n",
      "[115] \"Salix myrtilloides\"       \"Salix pentandra\"         \n",
      "[117] \"Salix phylicifolia\"       \"Salix repens\"            \n",
      "[119] \"Salix rosmarinifolia\"     \"Salix starkeana\"         \n",
      "[121] \"Abies cephalonica\"        \"Acer monspessulanum\"     \n",
      "[123] \"Acer opalus\"              \"Alnus cordata\"           \n",
      "[125] \"Arbutus unedo\"            \"Buxus sempervirens\"      \n",
      "[127] \"Cedrus atlantica\"         \"Celtis australis\"        \n",
      "[129] \"Cercis siliquastrum\"      \"Chamaecyparis lawsoniana\"\n",
      "[131] \"Cupressus macrocarpa\"     \"Erica arborea\"           \n",
      "[133] \"Erica scoparia\"           \"Ficus carica\"            \n",
      "[135] \"Juniperus oxycedrus\"      \"Juniperus phoenicea\"     \n",
      "[137] \"Juniperus thurifera\"      \"Laburnum alpinum\"        \n",
      "[139] \"Laburnum anagyroides\"     \"Laurus nobilis\"          \n",
      "[141] \"Liriodendron tulipifera\"  \"Mespilus germanica\"      \n",
      "[143] \"Morus alba\"               \"Phillyrea angustifolia\"  \n",
      "[145] \"Phillyrea latifolia\"      \"Pinus pinaster\"          \n",
      "[147] \"Pinus pinea\"              \"Pinus radiata\"           \n",
      "[149] \"Pistacia atlantica\"       \"Prunus brigantina\"       \n",
      "[151] \"Prunus cerasus\"           \"Prunus dulcis\"           \n",
      "[153] \"Prunus mahaleb\"           \"Pyrus amygdaliformis\"    \n",
      "[155] \"Quercus pyrenaica\"        \"Quercus suber\"           \n",
      "[157] \"Rhamnus alpina\"           \"Rhamnus saxatilis\"       \n",
      "[159] \"Salix atrocinerea\"        \"Salix daphnoides\"        \n",
      "[161] \"Salix eleagnos\"           \"Salix viminalis\"         \n",
      "[163] \"Sambucus nigra\"           \"Sorbus domestica\"        \n",
      "[165] \"Sorbus latifolia\"         \"Sorbus mougeotii\"        \n",
      "[167] \"Tamarix africana\"         \"Tamarix canariensis\"     \n",
      "[169] \"Thuja plicata\"            \"Tsuga heterophylla\"      \n",
      "[171] \"Vachellia farnesiana\"     \"Crataegus crus-galli\"    \n",
      "[173] \"Fraxinus pennsylvanica\"   \"Maclura pomifera\"        \n",
      "[175] \"Pinus ponderosa\"          \"Prunus virginiana\"       \n",
      "[177] \"Salix appendiculata\"      \"Ulmus canescens\"         \n",
      "[179] \"Acer saccharinum\"         \"Acer tataricum\"          \n",
      "[181] \"Juniperus virginiana\"     \"Salix salviifolia\"       \n",
      "[183] \"Styphnolobium japonicum\"  \"Tilia tomentosa\"         \n",
      "[185] \"Acer cappadocicum\"        \"Ceratonia siliqua\"       \n",
      "[187] \"Cupressus arizonica\"      \"Eucalyptus camaldulensis\"\n",
      "[189] \"Eucalyptus globulus\"      \"Euonymus latifolius\"     \n",
      "[191] \"Paliurus spina-christi\"   \"Paulownia tomentosa\"     \n",
      "[193] \"Pinus heldreichii\"        \"Pinus wallichiana\"       \n",
      "[195] \"Platanus orientalis\"      \"Quercus congesta\"        \n",
      "[197] \"Quercus dalechampii\"      \"Quercus frainetto\"       \n",
      "[199] \"Quercus ithaburensis\"     \"Quercus trojana\"         \n",
      "[201] \"Salix foetida\"            \"Salix glabra\"            \n",
      "[203] \"Prunus persica\"           \"Salix silesiaca\"         \n",
      "[205] \"Quercus faginea\"          \"Abies pinsapo\"           \n",
      "[207] \"Amelanchier ovalis\"       \"Betula humilis\"          \n",
      "[209] \"Elaeagnus rhamnoides\"     \"Fraxinus pallisae\"       \n",
      "[211] \"Juglans cinerea\"          \"Morus nigra\"             \n",
      "[213] \"Prunus armeniaca\"         \"Rhus typhina\"            \n",
      "[215] \"Sambucus racemosa\"        \"Viburnum opulus\"         \n",
      "[217] \"Populus balsamifera\"      \"Frangula rupestris\"      \n",
      "[219] \"Sorbus graeca\"            \"Acacia dealbata\"         \n",
      "[221] \"Acacia melanoxylon\"       \"Cedrus deodara\"          \n",
      "[223] \"Chamaerops humilis\"       \"Crataegus laciniata\"     \n",
      "[225] \"Cupressus lusitanica\"     \"Eucalyptus gomphocephala\"\n",
      "[227] \"Ilex canariensis\"         \"Juniperus sabina\"        \n",
      "[229] \"Laurus azorica\"           \"Myrica faya\"             \n",
      "[231] \"Myrtus communis\"          \"Persea indica\"           \n",
      "[233] \"Phoenix canariensis\"      \"Picconia excelsa\"        \n",
      "[235] \"Pinus canariensis\"        \"Prunus lusitanica\"       \n",
      "[237] \"Quercus canariensis\"      \"Rhamnus lycioides\"       \n",
      "[239] \"Rhus coriaria\"            \"Salix babylonica\"        \n",
      "[241] \"Salix bicolor\"            \"Tetraclinis articulata\"  \n"
     ]
    }
   ],
   "source": [
    "## Let's make sure the loop does what it is supposed to do\n",
    "for (tree.name in uniqueTrees){\n",
    "    print(tree.name)\n",
    "}"
   ]
  },
  {
   "cell_type": "code",
   "execution_count": 22,
   "metadata": {},
   "outputs": [
    {
     "name": "stdout",
     "output_type": "stream",
     "text": [
      "[1] \"Working on species: Abies alba\"\n"
     ]
    },
    {
     "name": "stderr",
     "output_type": "stream",
     "text": [
      "Warning message:\n",
      "\"data contain duplicated points\""
     ]
    },
    {
     "name": "stdout",
     "output_type": "stream",
     "text": [
      "[1] \"Interaction term for the model: 1.01628279366637\"\n",
      "[1] \"Working on species: Acer campestre\"\n",
      "[1] \"Interaction term for the model: 0.570890285504653\"\n",
      "[1] \"Working on species: Acer negundo\"\n"
     ]
    },
    {
     "name": "stderr",
     "output_type": "stream",
     "text": [
      "Warning message:\n",
      "\"glm.fit: algorithm did not converge\""
     ]
    },
    {
     "name": "stdout",
     "output_type": "stream",
     "text": [
      "[1] \"Interaction term for the model: 0.579425754405931\"\n",
      "[1] \"Working on species: Acer platanoides\"\n",
      "[1] \"Interaction term for the model: 0.721090473152732\"\n",
      "[1] \"Working on species: Acer pseudoplatanus\"\n",
      "[1] \"Interaction term for the model: 0.759496675005038\"\n",
      "[1] \"Working on species: Ailanthus altissima\"\n"
     ]
    },
    {
     "name": "stderr",
     "output_type": "stream",
     "text": [
      "Warning message:\n",
      "\"glm.fit: algorithm did not converge\""
     ]
    },
    {
     "name": "stdout",
     "output_type": "stream",
     "text": [
      "[1] \"Interaction term for the model: 1.08295461118149\"\n",
      "[1] \"Working on species: Alnus alnobetula\"\n"
     ]
    },
    {
     "name": "stderr",
     "output_type": "stream",
     "text": [
      "Warning message:\n",
      "\"glm.fit: algorithm did not converge\""
     ]
    },
    {
     "name": "stdout",
     "output_type": "stream",
     "text": [
      "[1] \"Interaction term for the model: 1.42047382077148\"\n",
      "[1] \"Working on species: Alnus glutinosa\"\n",
      "[1] \"Interaction term for the model: 0.658835103132428\"\n",
      "[1] \"Working on species: Alnus incana\"\n",
      "[1] \"Interaction term for the model: 1.09364626701221\"\n",
      "[1] \"Working on species: Betula pendula\"\n"
     ]
    },
    {
     "name": "stderr",
     "output_type": "stream",
     "text": [
      "Warning message:\n",
      "\"data contain duplicated points\""
     ]
    },
    {
     "name": "stdout",
     "output_type": "stream",
     "text": [
      "[1] \"Interaction term for the model: 0.99465356620667\"\n"
     ]
    }
   ],
   "source": [
    "## Let's update variables in this loop and run our analysis for every species. \n",
    "## Some of the species have only one observation and this might result in some model stability problems.\n",
    "## Here I demo how to do this for the first 10 trees\n",
    "for (tree.name in uniqueTrees$SPECIES_NAME[1:10]){\n",
    "    print(paste0('Working on species: ', tree.name))\n",
    "    ind <- tree.sf$SPECIES_NAME==tree.name\n",
    "    ## Get the Tree Data\n",
    "    my.tree <- tree.sf[ind,]\n",
    "    my.tree.locs <- st_coordinates(my.tree)\n",
    "    \n",
    "    ## Find Nearest Distances\n",
    "    dists <-nndist(my.tree.locs, k=1)\n",
    "    d.inter <- median(dists)\n",
    "    \n",
    "    ## Define the Strauss Model\n",
    "    strauss.model <- Strauss(d.inter)\n",
    "    \n",
    "    ## Create the PPP Object\n",
    "    bbox <- st_bbox(my.tree)\n",
    "    my.tree.locs <- st_coordinates(my.tree)\n",
    "    my.tree.ppp <- as.ppp(my.tree.locs, W = bbox)\n",
    "    \n",
    "    ## Fit the Strauss Model\n",
    "    fitted.model <- ppm(my.tree.ppp, ~1, strauss.model)\n",
    "    \n",
    "    ## \n",
    "    print(paste0('Interaction term for the model: ', fitted.model$coef[2]))\n",
    "}"
   ]
  }
 ],
 "metadata": {
  "kernelspec": {
   "display_name": "R",
   "language": "R",
   "name": "ir"
  },
  "language_info": {
   "codemirror_mode": "r",
   "file_extension": ".r",
   "mimetype": "text/x-r-source",
   "name": "R",
   "pygments_lexer": "r",
   "version": "3.5.1"
  }
 },
 "nbformat": 4,
 "nbformat_minor": 4
}
